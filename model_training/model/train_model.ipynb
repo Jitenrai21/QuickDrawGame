{
 "cells": [
  {
   "cell_type": "code",
   "execution_count": 4,
   "id": "e4e5c1be",
   "metadata": {},
   "outputs": [
    {
     "name": "stdout",
     "output_type": "stream",
     "text": [
      "Training data shape: (6400, 28, 28, 1)\n",
      "Validation data shape: (1600, 28, 28, 1)\n"
     ]
    }
   ],
   "source": [
    "import numpy as np\n",
    "from sklearn.model_selection import train_test_split\n",
    "import os\n",
    "\n",
    "# Define directories\n",
    "processed_data_dir = r'C:\\Users\\ACER\\gitClones\\QuickDrawGame\\model_training\\data\\processed_data'\n",
    "\n",
    "# Load image and label files\n",
    "def load_data():\n",
    "    images = []\n",
    "    labels = []\n",
    "    \n",
    "    # Loop through all categories (replace with your actual labels)\n",
    "    labels_list = ['airplane', 'dog', 'cat', 'fish', 'truck', 'car', 'rabbit', 'elephant']\n",
    "    \n",
    "    for label in labels_list:\n",
    "        # Load the corresponding images and labels for each batch\n",
    "        for batch_index in range(1, 11):  # Assuming 10 batches per label\n",
    "            # Correct file paths for images and one-hot labels\n",
    "            image_file = os.path.join(processed_data_dir, f'full_raw_{label}_images_{batch_index}.npy')\n",
    "            label_file = os.path.join(processed_data_dir, f'full_raw_{label}_one_hot_labels_{batch_index}.npy')\n",
    "            \n",
    "            # Load images and one-hot encoded labels\n",
    "            images_batch = np.load(image_file)\n",
    "            labels_batch = np.load(label_file)\n",
    "            \n",
    "            images.append(images_batch)\n",
    "            labels.append(labels_batch)\n",
    "    \n",
    "    # Concatenate all batches of images and labels\n",
    "    images = np.concatenate(images, axis=0)\n",
    "    labels = np.concatenate(labels, axis=0)\n",
    "    \n",
    "    # Reshape the images to ensure they're in the correct format (e.g., 28x28x1)\n",
    "    images = images.reshape(-1, 28, 28, 1)  # Assuming 28x28 grayscale images\n",
    "    \n",
    "    return images, labels\n",
    "\n",
    "# Load the data\n",
    "images, labels = load_data()\n",
    "\n",
    "# Split data into training and validation sets\n",
    "X_train, X_val, y_train, y_val = train_test_split(images, labels, test_size=0.2, random_state=42)\n",
    "\n",
    "print(f\"Training data shape: {X_train.shape}\")\n",
    "print(f\"Validation data shape: {X_val.shape}\")\n"
   ]
  },
  {
   "cell_type": "code",
   "execution_count": null,
   "id": "f17e8abf",
   "metadata": {},
   "outputs": [],
   "source": [
    "import tensorflow as tf\n",
    "from tensorflow.keras.models import Sequential\n",
    "from tensorflow.keras.layers import Dense, GlobalAveragePooling2D, Dropout\n",
    "from tensorflow.keras.applications import MobileNetV2\n",
    "from tensorflow.keras.optimizers import Adam\n",
    "from tensorflow.keras import layers"
   ]
  },
  {
   "cell_type": "code",
   "execution_count": 14,
   "id": "131438dd",
   "metadata": {},
   "outputs": [
    {
     "name": "stdout",
     "output_type": "stream",
     "text": [
      "WARNING:tensorflow:From c:\\Users\\ACER\\gitClones\\CV_ENV\\Lib\\site-packages\\keras\\src\\backend\\common\\global_state.py:82: The name tf.reset_default_graph is deprecated. Please use tf.compat.v1.reset_default_graph instead.\n",
      "\n"
     ]
    }
   ],
   "source": [
    "from tensorflow.keras.backend import clear_session\n",
    "\n",
    "clear_session()"
   ]
  },
  {
   "cell_type": "code",
   "execution_count": 15,
   "id": "b840eb3d",
   "metadata": {},
   "outputs": [
    {
     "name": "stderr",
     "output_type": "stream",
     "text": [
      "C:\\Users\\ACER\\AppData\\Local\\Temp\\ipykernel_21052\\364207943.py:2: UserWarning: `input_shape` is undefined or non-square, or `rows` is not in [96, 128, 160, 192, 224]. Weights for input shape (224, 224) will be loaded as the default.\n",
      "  base_model = MobileNetV2(weights='imagenet', include_top=False, input_shape=(32, 32, 3))\n"
     ]
    },
    {
     "data": {
      "text/html": [
       "<pre style=\"white-space:pre;overflow-x:auto;line-height:normal;font-family:Menlo,'DejaVu Sans Mono',consolas,'Courier New',monospace\"><span style=\"font-weight: bold\">Model: \"sequential\"</span>\n",
       "</pre>\n"
      ],
      "text/plain": [
       "\u001b[1mModel: \"sequential\"\u001b[0m\n"
      ]
     },
     "metadata": {},
     "output_type": "display_data"
    },
    {
     "data": {
      "text/html": [
       "<pre style=\"white-space:pre;overflow-x:auto;line-height:normal;font-family:Menlo,'DejaVu Sans Mono',consolas,'Courier New',monospace\">┏━━━━━━━━━━━━━━━━━━━━━━━━━━━━━━━━━┳━━━━━━━━━━━━━━━━━━━━━━━━┳━━━━━━━━━━━━━━━┓\n",
       "┃<span style=\"font-weight: bold\"> Layer (type)                    </span>┃<span style=\"font-weight: bold\"> Output Shape           </span>┃<span style=\"font-weight: bold\">       Param # </span>┃\n",
       "┡━━━━━━━━━━━━━━━━━━━━━━━━━━━━━━━━━╇━━━━━━━━━━━━━━━━━━━━━━━━╇━━━━━━━━━━━━━━━┩\n",
       "│ mobilenetv2_1.00_224            │ (<span style=\"color: #00d7ff; text-decoration-color: #00d7ff\">None</span>, <span style=\"color: #00af00; text-decoration-color: #00af00\">1</span>, <span style=\"color: #00af00; text-decoration-color: #00af00\">1</span>, <span style=\"color: #00af00; text-decoration-color: #00af00\">1280</span>)     │     <span style=\"color: #00af00; text-decoration-color: #00af00\">2,257,984</span> │\n",
       "│ (<span style=\"color: #0087ff; text-decoration-color: #0087ff\">Functional</span>)                    │                        │               │\n",
       "├─────────────────────────────────┼────────────────────────┼───────────────┤\n",
       "│ global_average_pooling2d        │ (<span style=\"color: #00d7ff; text-decoration-color: #00d7ff\">None</span>, <span style=\"color: #00af00; text-decoration-color: #00af00\">1280</span>)           │             <span style=\"color: #00af00; text-decoration-color: #00af00\">0</span> │\n",
       "│ (<span style=\"color: #0087ff; text-decoration-color: #0087ff\">GlobalAveragePooling2D</span>)        │                        │               │\n",
       "├─────────────────────────────────┼────────────────────────┼───────────────┤\n",
       "│ dense (<span style=\"color: #0087ff; text-decoration-color: #0087ff\">Dense</span>)                   │ (<span style=\"color: #00d7ff; text-decoration-color: #00d7ff\">None</span>, <span style=\"color: #00af00; text-decoration-color: #00af00\">128</span>)            │       <span style=\"color: #00af00; text-decoration-color: #00af00\">163,968</span> │\n",
       "├─────────────────────────────────┼────────────────────────┼───────────────┤\n",
       "│ dropout (<span style=\"color: #0087ff; text-decoration-color: #0087ff\">Dropout</span>)               │ (<span style=\"color: #00d7ff; text-decoration-color: #00d7ff\">None</span>, <span style=\"color: #00af00; text-decoration-color: #00af00\">128</span>)            │             <span style=\"color: #00af00; text-decoration-color: #00af00\">0</span> │\n",
       "├─────────────────────────────────┼────────────────────────┼───────────────┤\n",
       "│ dense_1 (<span style=\"color: #0087ff; text-decoration-color: #0087ff\">Dense</span>)                 │ (<span style=\"color: #00d7ff; text-decoration-color: #00d7ff\">None</span>, <span style=\"color: #00af00; text-decoration-color: #00af00\">19</span>)             │         <span style=\"color: #00af00; text-decoration-color: #00af00\">2,451</span> │\n",
       "└─────────────────────────────────┴────────────────────────┴───────────────┘\n",
       "</pre>\n"
      ],
      "text/plain": [
       "┏━━━━━━━━━━━━━━━━━━━━━━━━━━━━━━━━━┳━━━━━━━━━━━━━━━━━━━━━━━━┳━━━━━━━━━━━━━━━┓\n",
       "┃\u001b[1m \u001b[0m\u001b[1mLayer (type)                   \u001b[0m\u001b[1m \u001b[0m┃\u001b[1m \u001b[0m\u001b[1mOutput Shape          \u001b[0m\u001b[1m \u001b[0m┃\u001b[1m \u001b[0m\u001b[1m      Param #\u001b[0m\u001b[1m \u001b[0m┃\n",
       "┡━━━━━━━━━━━━━━━━━━━━━━━━━━━━━━━━━╇━━━━━━━━━━━━━━━━━━━━━━━━╇━━━━━━━━━━━━━━━┩\n",
       "│ mobilenetv2_1.00_224            │ (\u001b[38;5;45mNone\u001b[0m, \u001b[38;5;34m1\u001b[0m, \u001b[38;5;34m1\u001b[0m, \u001b[38;5;34m1280\u001b[0m)     │     \u001b[38;5;34m2,257,984\u001b[0m │\n",
       "│ (\u001b[38;5;33mFunctional\u001b[0m)                    │                        │               │\n",
       "├─────────────────────────────────┼────────────────────────┼───────────────┤\n",
       "│ global_average_pooling2d        │ (\u001b[38;5;45mNone\u001b[0m, \u001b[38;5;34m1280\u001b[0m)           │             \u001b[38;5;34m0\u001b[0m │\n",
       "│ (\u001b[38;5;33mGlobalAveragePooling2D\u001b[0m)        │                        │               │\n",
       "├─────────────────────────────────┼────────────────────────┼───────────────┤\n",
       "│ dense (\u001b[38;5;33mDense\u001b[0m)                   │ (\u001b[38;5;45mNone\u001b[0m, \u001b[38;5;34m128\u001b[0m)            │       \u001b[38;5;34m163,968\u001b[0m │\n",
       "├─────────────────────────────────┼────────────────────────┼───────────────┤\n",
       "│ dropout (\u001b[38;5;33mDropout\u001b[0m)               │ (\u001b[38;5;45mNone\u001b[0m, \u001b[38;5;34m128\u001b[0m)            │             \u001b[38;5;34m0\u001b[0m │\n",
       "├─────────────────────────────────┼────────────────────────┼───────────────┤\n",
       "│ dense_1 (\u001b[38;5;33mDense\u001b[0m)                 │ (\u001b[38;5;45mNone\u001b[0m, \u001b[38;5;34m19\u001b[0m)             │         \u001b[38;5;34m2,451\u001b[0m │\n",
       "└─────────────────────────────────┴────────────────────────┴───────────────┘\n"
      ]
     },
     "metadata": {},
     "output_type": "display_data"
    },
    {
     "data": {
      "text/html": [
       "<pre style=\"white-space:pre;overflow-x:auto;line-height:normal;font-family:Menlo,'DejaVu Sans Mono',consolas,'Courier New',monospace\"><span style=\"font-weight: bold\"> Total params: </span><span style=\"color: #00af00; text-decoration-color: #00af00\">2,424,403</span> (9.25 MB)\n",
       "</pre>\n"
      ],
      "text/plain": [
       "\u001b[1m Total params: \u001b[0m\u001b[38;5;34m2,424,403\u001b[0m (9.25 MB)\n"
      ]
     },
     "metadata": {},
     "output_type": "display_data"
    },
    {
     "data": {
      "text/html": [
       "<pre style=\"white-space:pre;overflow-x:auto;line-height:normal;font-family:Menlo,'DejaVu Sans Mono',consolas,'Courier New',monospace\"><span style=\"font-weight: bold\"> Trainable params: </span><span style=\"color: #00af00; text-decoration-color: #00af00\">166,419</span> (650.07 KB)\n",
       "</pre>\n"
      ],
      "text/plain": [
       "\u001b[1m Trainable params: \u001b[0m\u001b[38;5;34m166,419\u001b[0m (650.07 KB)\n"
      ]
     },
     "metadata": {},
     "output_type": "display_data"
    },
    {
     "data": {
      "text/html": [
       "<pre style=\"white-space:pre;overflow-x:auto;line-height:normal;font-family:Menlo,'DejaVu Sans Mono',consolas,'Courier New',monospace\"><span style=\"font-weight: bold\"> Non-trainable params: </span><span style=\"color: #00af00; text-decoration-color: #00af00\">2,257,984</span> (8.61 MB)\n",
       "</pre>\n"
      ],
      "text/plain": [
       "\u001b[1m Non-trainable params: \u001b[0m\u001b[38;5;34m2,257,984\u001b[0m (8.61 MB)\n"
      ]
     },
     "metadata": {},
     "output_type": "display_data"
    }
   ],
   "source": [
    "# Load the MobileNetV2 model pre-trained on ImageNet\n",
    "base_model = MobileNetV2(weights='imagenet', include_top=False, input_shape=(32, 32, 3))\n",
    "\n",
    "# Freeze the base model to keep the pre-trained weights\n",
    "base_model.trainable = False\n",
    "\n",
    "# Create the model\n",
    "model = Sequential([\n",
    "    # Add the pre-trained base model\n",
    "    base_model,\n",
    "    \n",
    "    # Global average pooling layer to reduce dimensionality\n",
    "    GlobalAveragePooling2D(),\n",
    "    \n",
    "    # Add a dense layer for custom output\n",
    "    Dense(128, activation='relu'),\n",
    "    \n",
    "    # Dropout layer to avoid overfitting\n",
    "    Dropout(0.5),\n",
    "    \n",
    "    # Output layer with 19 classes (your number of categories)\n",
    "    Dense(19, activation='softmax')  # 19 categories, softmax for multi-class classification\n",
    "])\n",
    "\n",
    "# Compile the model\n",
    "model.compile(optimizer=Adam(), loss='categorical_crossentropy', metrics=['accuracy'])\n",
    "\n",
    "# Print model summary\n",
    "model.summary()"
   ]
  },
  {
   "cell_type": "code",
   "execution_count": 16,
   "id": "b3142e04",
   "metadata": {},
   "outputs": [
    {
     "name": "stdout",
     "output_type": "stream",
     "text": [
      "Training data shape: (6400, 32, 32, 3)\n",
      "Validation data shape: (1600, 32, 32, 3)\n"
     ]
    }
   ],
   "source": [
    "import cv2\n",
    "import numpy as np\n",
    "\n",
    "# Resize images to 32x32 and convert grayscale to RGB (3 channels)\n",
    "def preprocess_images(images):\n",
    "    images_resized = []\n",
    "    for img in images:\n",
    "        img_resized = cv2.resize(img, (32, 32))  # Resize to (32, 32)\n",
    "        \n",
    "        # If the image is grayscale (1 channel), convert it to RGB (3 channels)\n",
    "        if img_resized.ndim == 2:  # If the image is grayscale (only 2 dimensions: height and width)\n",
    "            img_resized = cv2.cvtColor(img_resized, cv2.COLOR_GRAY2RGB)  # Convert to RGB\n",
    "        \n",
    "        # If the image has only 1 channel (grayscale), convert it to RGB\n",
    "        elif img_resized.shape[-1] == 1:  # Check if the image has only 1 channel (grayscale)\n",
    "            img_resized = cv2.cvtColor(img_resized, cv2.COLOR_GRAY2RGB)  # Convert to RGB\n",
    "        \n",
    "        images_resized.append(img_resized)\n",
    "    \n",
    "    return np.array(images_resized)\n",
    "\n",
    "# Assuming X_train and X_val are your training and validation image datasets\n",
    "X_train = preprocess_images(X_train)\n",
    "X_val = preprocess_images(X_val)\n",
    "\n",
    "print(f\"Training data shape: {X_train.shape}\")\n",
    "print(f\"Validation data shape: {X_val.shape}\")\n"
   ]
  },
  {
   "cell_type": "code",
   "execution_count": 17,
   "id": "6280b342",
   "metadata": {},
   "outputs": [
    {
     "name": "stdout",
     "output_type": "stream",
     "text": [
      "Epoch 1/10\n",
      "200/200 - 12s - 60ms/step - accuracy: 0.1244 - loss: 2.3988 - val_accuracy: 0.1138 - val_loss: 2.1155\n",
      "Epoch 2/10\n",
      "200/200 - 5s - 27ms/step - accuracy: 0.1247 - loss: 2.1188 - val_accuracy: 0.1194 - val_loss: 2.0891\n",
      "Epoch 3/10\n",
      "200/200 - 5s - 27ms/step - accuracy: 0.1250 - loss: 2.1033 - val_accuracy: 0.1138 - val_loss: 2.0853\n",
      "Epoch 4/10\n",
      "200/200 - 5s - 27ms/step - accuracy: 0.1230 - loss: 2.0983 - val_accuracy: 0.1231 - val_loss: 2.0847\n",
      "Epoch 5/10\n",
      "200/200 - 6s - 28ms/step - accuracy: 0.1216 - loss: 2.0945 - val_accuracy: 0.1250 - val_loss: 2.0826\n",
      "Epoch 6/10\n",
      "200/200 - 6s - 30ms/step - accuracy: 0.1269 - loss: 2.0898 - val_accuracy: 0.1138 - val_loss: 2.0849\n",
      "Epoch 7/10\n",
      "200/200 - 6s - 30ms/step - accuracy: 0.1247 - loss: 2.0870 - val_accuracy: 0.1138 - val_loss: 2.0844\n",
      "Epoch 8/10\n",
      "200/200 - 6s - 30ms/step - accuracy: 0.1184 - loss: 2.0876 - val_accuracy: 0.1138 - val_loss: 2.0828\n",
      "Epoch 9/10\n",
      "200/200 - 6s - 31ms/step - accuracy: 0.1189 - loss: 2.0891 - val_accuracy: 0.1194 - val_loss: 2.0850\n",
      "Epoch 10/10\n",
      "200/200 - 6s - 30ms/step - accuracy: 0.1213 - loss: 2.0863 - val_accuracy: 0.1231 - val_loss: 2.0832\n"
     ]
    },
    {
     "name": "stderr",
     "output_type": "stream",
     "text": [
      "WARNING:absl:You are saving your model as an HDF5 file via `model.save()` or `keras.saving.save_model(model)`. This file format is considered legacy. We recommend using instead the native Keras format, e.g. `model.save('my_model.keras')` or `keras.saving.save_model(model, 'my_model.keras')`. \n"
     ]
    },
    {
     "name": "stdout",
     "output_type": "stream",
     "text": [
      "50/50 - 1s - 25ms/step - accuracy: 0.1231 - loss: 2.0832\n",
      "Validation Loss: 2.083224296569824\n",
      "Validation Accuracy: 0.12312500178813934\n"
     ]
    }
   ],
   "source": [
    "# Train the model with your training and validation data\n",
    "history = model.fit(\n",
    "    X_train, \n",
    "    y_train, \n",
    "    epochs=10,  # Adjust epochs based on your needs\n",
    "    batch_size=32,\n",
    "    validation_data=(X_val, y_val),\n",
    "    verbose=2\n",
    ")\n",
    "\n",
    "# Save the trained model\n",
    "model.save('quick_draw_model.h5')\n",
    "\n",
    "# Evaluate the model on the validation set\n",
    "val_loss, val_accuracy = model.evaluate(X_val, y_val, verbose=2)\n",
    "print(f\"Validation Loss: {val_loss}\")\n",
    "print(f\"Validation Accuracy: {val_accuracy}\")"
   ]
  },
  {
   "cell_type": "code",
   "execution_count": 18,
   "id": "e60c5981",
   "metadata": {},
   "outputs": [
    {
     "name": "stdout",
     "output_type": "stream",
     "text": [
      "Epoch 1/5\n",
      "200/200 - 12s - 58ms/step - accuracy: 0.1275 - loss: 2.0842 - val_accuracy: 0.1219 - val_loss: 2.0831\n",
      "Epoch 2/5\n",
      "200/200 - 6s - 28ms/step - accuracy: 0.1314 - loss: 2.0838 - val_accuracy: 0.1219 - val_loss: 2.0830\n",
      "Epoch 3/5\n",
      "200/200 - 6s - 29ms/step - accuracy: 0.1211 - loss: 2.0853 - val_accuracy: 0.1219 - val_loss: 2.0829\n",
      "Epoch 4/5\n",
      "200/200 - 6s - 29ms/step - accuracy: 0.1209 - loss: 2.0842 - val_accuracy: 0.1219 - val_loss: 2.0828\n",
      "Epoch 5/5\n",
      "200/200 - 6s - 30ms/step - accuracy: 0.1266 - loss: 2.0833 - val_accuracy: 0.1231 - val_loss: 2.0827\n"
     ]
    },
    {
     "name": "stderr",
     "output_type": "stream",
     "text": [
      "WARNING:absl:You are saving your model as an HDF5 file via `model.save()` or `keras.saving.save_model(model)`. This file format is considered legacy. We recommend using instead the native Keras format, e.g. `model.save('my_model.keras')` or `keras.saving.save_model(model, 'my_model.keras')`. \n"
     ]
    }
   ],
   "source": [
    "model.compile(optimizer=Adam(learning_rate=1e-5), loss='categorical_crossentropy', metrics=['accuracy'])\n",
    "\n",
    "# Continue training\n",
    "history_finetune = model.fit(\n",
    "    X_train, \n",
    "    y_train, \n",
    "    epochs=5,  # Fine-tune for fewer epochs\n",
    "    batch_size=32,\n",
    "    validation_data=(X_val, y_val),\n",
    "    verbose=2\n",
    ")\n",
    "\n",
    "# Save the fine-tuned model\n",
    "model.save('quick_draw_finetuned_model.h5')\n"
   ]
  },
  {
   "cell_type": "code",
   "execution_count": null,
   "id": "9aeeee51",
   "metadata": {},
   "outputs": [],
   "source": []
  }
 ],
 "metadata": {
  "kernelspec": {
   "display_name": "CV_ENV",
   "language": "python",
   "name": "python3"
  },
  "language_info": {
   "codemirror_mode": {
    "name": "ipython",
    "version": 3
   },
   "file_extension": ".py",
   "mimetype": "text/x-python",
   "name": "python",
   "nbconvert_exporter": "python",
   "pygments_lexer": "ipython3",
   "version": "3.12.4"
  }
 },
 "nbformat": 4,
 "nbformat_minor": 5
}
