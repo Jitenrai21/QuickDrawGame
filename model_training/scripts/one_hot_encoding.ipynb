{
 "cells": [
  {
   "cell_type": "code",
   "execution_count": 1,
   "id": "8570db5c",
   "metadata": {},
   "outputs": [],
   "source": [
    "import os\n",
    "import numpy as np\n",
    "import pandas as pd\n",
    "from sklearn.preprocessing import LabelEncoder\n",
    "from tensorflow.keras.utils import to_categorical"
   ]
  },
  {
   "cell_type": "code",
   "execution_count": 2,
   "id": "25b0c67f",
   "metadata": {},
   "outputs": [],
   "source": [
    "# Define directories for processed data and labels\n",
    "processed_data_dir = r'C:\\Users\\ACER\\gitClones\\QuickDrawGame\\model_training\\data\\processed_data'\n",
    "label_mapping_file = r'C:\\Users\\ACER\\gitClones\\QuickDrawGame\\model_training\\data\\labels.csv'  # Mapping of class labels to object names"
   ]
  },
  {
   "cell_type": "code",
   "execution_count": 3,
   "id": "90f1313c",
   "metadata": {},
   "outputs": [],
   "source": [
    "# Load the label mapping (class names)\n",
    "label_mapping_df = pd.read_csv(label_mapping_file)\n",
    "class_names = label_mapping_df['Class'].values  # Class names (e.g., cat, dog, car, etc.)\n"
   ]
  },
  {
   "cell_type": "code",
   "execution_count": 4,
   "id": "8831a433",
   "metadata": {},
   "outputs": [],
   "source": [
    "def encode_labels(labels, num_classes):\n",
    "    \"\"\"Convert labels to one-hot encoding.\"\"\"\n",
    "    # Initialize LabelEncoder\n",
    "    label_encoder = LabelEncoder()\n",
    "    label_encoder.fit(class_names)  # Fit the label encoder to the class names\n",
    "    integer_labels = label_encoder.transform(labels)  # Convert labels to integers\n",
    "    one_hot_labels = to_categorical(integer_labels, num_classes=num_classes)  # One-hot encode\n",
    "    return one_hot_labels, label_encoder.classes_"
   ]
  },
  {
   "cell_type": "code",
   "execution_count": 5,
   "id": "9dd29391",
   "metadata": {},
   "outputs": [],
   "source": [
    "def process_labels_and_save(batch_index, label):\n",
    "    \"\"\"Load labels, apply one-hot encoding, and save them as .npy.\"\"\"\n",
    "    # Load the labels from the CSV file corresponding to the batch\n",
    "    labels_file = os.path.join(processed_data_dir, f'full_raw_{label}_labels_{batch_index}.csv')\n",
    "    labels_df = pd.read_csv(labels_file)\n",
    "    \n",
    "    # Extract the labels\n",
    "    labels = labels_df['label'].values  # Labels are in the 'label' column\n",
    "    \n",
    "    # Apply One-Hot Encoding\n",
    "    num_classes = len(class_names)  # Total number of classes (19 in this case)\n",
    "    one_hot_labels, _ = encode_labels(labels, num_classes)\n",
    "    \n",
    "    # Save the one-hot encoded labels to a .npy file\n",
    "    one_hot_labels_file = os.path.join(processed_data_dir, f'full_raw_{label}_one_hot_labels_{batch_index}.npy')\n",
    "    np.save(one_hot_labels_file, one_hot_labels)  # Save as .npy for efficient loading later\n",
    "\n",
    "    print(f\"One-Hot Encoded Labels saved to: {one_hot_labels_file}\")"
   ]
  },
  {
   "cell_type": "code",
   "execution_count": 6,
   "id": "2e5969c2",
   "metadata": {},
   "outputs": [],
   "source": [
    "# Process all label batches (from batch 1 to the total number of batches)\n",
    "def process_all_batches():\n",
    "    # List of labels (categories you are processing)\n",
    "    labels = ['airplane', 'dog', 'cat', 'fish', 'truck', 'car', 'rabbit', 'elephant']  # Add all relevant categories\n",
    "\n",
    "    # Loop through each label and batch\n",
    "    for label in labels:\n",
    "        for batch_index in range(1, 11):  # Assuming 10 batches (adjust as needed)\n",
    "            print(f\"Processing {label} Batch {batch_index}...\")\n",
    "            process_labels_and_save(batch_index, label)"
   ]
  },
  {
   "cell_type": "code",
   "execution_count": 7,
   "id": "a8a924b2",
   "metadata": {},
   "outputs": [
    {
     "name": "stdout",
     "output_type": "stream",
     "text": [
      "Processing airplane Batch 1...\n"
     ]
    },
    {
     "ename": "ValueError",
     "evalue": "y contains previously unseen labels: 'full_raw_airplane'",
     "output_type": "error",
     "traceback": [
      "\u001b[31m---------------------------------------------------------------------------\u001b[39m",
      "\u001b[31mKeyError\u001b[39m                                  Traceback (most recent call last)",
      "\u001b[36mFile \u001b[39m\u001b[32mc:\\Users\\ACER\\gitClones\\CV_ENV\\Lib\\site-packages\\sklearn\\utils\\_encode.py:235\u001b[39m, in \u001b[36m_encode\u001b[39m\u001b[34m(values, uniques, check_unknown)\u001b[39m\n\u001b[32m    234\u001b[39m \u001b[38;5;28;01mtry\u001b[39;00m:\n\u001b[32m--> \u001b[39m\u001b[32m235\u001b[39m     \u001b[38;5;28;01mreturn\u001b[39;00m \u001b[43m_map_to_integer\u001b[49m\u001b[43m(\u001b[49m\u001b[43mvalues\u001b[49m\u001b[43m,\u001b[49m\u001b[43m \u001b[49m\u001b[43muniques\u001b[49m\u001b[43m)\u001b[49m\n\u001b[32m    236\u001b[39m \u001b[38;5;28;01mexcept\u001b[39;00m \u001b[38;5;167;01mKeyError\u001b[39;00m \u001b[38;5;28;01mas\u001b[39;00m e:\n",
      "\u001b[36mFile \u001b[39m\u001b[32mc:\\Users\\ACER\\gitClones\\CV_ENV\\Lib\\site-packages\\sklearn\\utils\\_encode.py:174\u001b[39m, in \u001b[36m_map_to_integer\u001b[39m\u001b[34m(values, uniques)\u001b[39m\n\u001b[32m    173\u001b[39m table = _nandict({val: i \u001b[38;5;28;01mfor\u001b[39;00m i, val \u001b[38;5;129;01min\u001b[39;00m \u001b[38;5;28menumerate\u001b[39m(uniques)})\n\u001b[32m--> \u001b[39m\u001b[32m174\u001b[39m \u001b[38;5;28;01mreturn\u001b[39;00m xp.asarray([\u001b[43mtable\u001b[49m\u001b[43m[\u001b[49m\u001b[43mv\u001b[49m\u001b[43m]\u001b[49m \u001b[38;5;28;01mfor\u001b[39;00m v \u001b[38;5;129;01min\u001b[39;00m values], device=device(values))\n",
      "\u001b[36mFile \u001b[39m\u001b[32mc:\\Users\\ACER\\gitClones\\CV_ENV\\Lib\\site-packages\\sklearn\\utils\\_encode.py:167\u001b[39m, in \u001b[36m_nandict.__missing__\u001b[39m\u001b[34m(self, key)\u001b[39m\n\u001b[32m    166\u001b[39m     \u001b[38;5;28;01mreturn\u001b[39;00m \u001b[38;5;28mself\u001b[39m.nan_value\n\u001b[32m--> \u001b[39m\u001b[32m167\u001b[39m \u001b[38;5;28;01mraise\u001b[39;00m \u001b[38;5;167;01mKeyError\u001b[39;00m(key)\n",
      "\u001b[31mKeyError\u001b[39m: 'full_raw_airplane'",
      "\nDuring handling of the above exception, another exception occurred:\n",
      "\u001b[31mValueError\u001b[39m                                Traceback (most recent call last)",
      "\u001b[36mCell\u001b[39m\u001b[36m \u001b[39m\u001b[32mIn[7]\u001b[39m\u001b[32m, line 2\u001b[39m\n\u001b[32m      1\u001b[39m \u001b[38;5;66;03m# Run the process\u001b[39;00m\n\u001b[32m----> \u001b[39m\u001b[32m2\u001b[39m \u001b[43mprocess_all_batches\u001b[49m\u001b[43m(\u001b[49m\u001b[43m)\u001b[49m\n",
      "\u001b[36mCell\u001b[39m\u001b[36m \u001b[39m\u001b[32mIn[6]\u001b[39m\u001b[32m, line 10\u001b[39m, in \u001b[36mprocess_all_batches\u001b[39m\u001b[34m()\u001b[39m\n\u001b[32m      8\u001b[39m \u001b[38;5;28;01mfor\u001b[39;00m batch_index \u001b[38;5;129;01min\u001b[39;00m \u001b[38;5;28mrange\u001b[39m(\u001b[32m1\u001b[39m, \u001b[32m11\u001b[39m):  \u001b[38;5;66;03m# Assuming 10 batches (adjust as needed)\u001b[39;00m\n\u001b[32m      9\u001b[39m     \u001b[38;5;28mprint\u001b[39m(\u001b[33mf\u001b[39m\u001b[33m\"\u001b[39m\u001b[33mProcessing \u001b[39m\u001b[38;5;132;01m{\u001b[39;00mlabel\u001b[38;5;132;01m}\u001b[39;00m\u001b[33m Batch \u001b[39m\u001b[38;5;132;01m{\u001b[39;00mbatch_index\u001b[38;5;132;01m}\u001b[39;00m\u001b[33m...\u001b[39m\u001b[33m\"\u001b[39m)\n\u001b[32m---> \u001b[39m\u001b[32m10\u001b[39m     \u001b[43mprocess_labels_and_save\u001b[49m\u001b[43m(\u001b[49m\u001b[43mbatch_index\u001b[49m\u001b[43m,\u001b[49m\u001b[43m \u001b[49m\u001b[43mlabel\u001b[49m\u001b[43m)\u001b[49m\n",
      "\u001b[36mCell\u001b[39m\u001b[36m \u001b[39m\u001b[32mIn[5]\u001b[39m\u001b[32m, line 12\u001b[39m, in \u001b[36mprocess_labels_and_save\u001b[39m\u001b[34m(batch_index, label)\u001b[39m\n\u001b[32m     10\u001b[39m \u001b[38;5;66;03m# Apply One-Hot Encoding\u001b[39;00m\n\u001b[32m     11\u001b[39m num_classes = \u001b[38;5;28mlen\u001b[39m(class_names)  \u001b[38;5;66;03m# Total number of classes (19 in this case)\u001b[39;00m\n\u001b[32m---> \u001b[39m\u001b[32m12\u001b[39m one_hot_labels, _ = \u001b[43mencode_labels\u001b[49m\u001b[43m(\u001b[49m\u001b[43mlabels\u001b[49m\u001b[43m,\u001b[49m\u001b[43m \u001b[49m\u001b[43mnum_classes\u001b[49m\u001b[43m)\u001b[49m\n\u001b[32m     14\u001b[39m \u001b[38;5;66;03m# Save the one-hot encoded labels to a .npy file\u001b[39;00m\n\u001b[32m     15\u001b[39m one_hot_labels_file = os.path.join(processed_data_dir, \u001b[33mf\u001b[39m\u001b[33m'\u001b[39m\u001b[33mfull_raw_\u001b[39m\u001b[38;5;132;01m{\u001b[39;00mlabel\u001b[38;5;132;01m}\u001b[39;00m\u001b[33m_one_hot_labels_\u001b[39m\u001b[38;5;132;01m{\u001b[39;00mbatch_index\u001b[38;5;132;01m}\u001b[39;00m\u001b[33m.npy\u001b[39m\u001b[33m'\u001b[39m)\n",
      "\u001b[36mCell\u001b[39m\u001b[36m \u001b[39m\u001b[32mIn[4]\u001b[39m\u001b[32m, line 6\u001b[39m, in \u001b[36mencode_labels\u001b[39m\u001b[34m(labels, num_classes)\u001b[39m\n\u001b[32m      4\u001b[39m label_encoder = LabelEncoder()\n\u001b[32m      5\u001b[39m label_encoder.fit(class_names)  \u001b[38;5;66;03m# Fit the label encoder to the class names\u001b[39;00m\n\u001b[32m----> \u001b[39m\u001b[32m6\u001b[39m integer_labels = \u001b[43mlabel_encoder\u001b[49m\u001b[43m.\u001b[49m\u001b[43mtransform\u001b[49m\u001b[43m(\u001b[49m\u001b[43mlabels\u001b[49m\u001b[43m)\u001b[49m  \u001b[38;5;66;03m# Convert labels to integers\u001b[39;00m\n\u001b[32m      7\u001b[39m one_hot_labels = to_categorical(integer_labels, num_classes=num_classes)  \u001b[38;5;66;03m# One-hot encode\u001b[39;00m\n\u001b[32m      8\u001b[39m \u001b[38;5;28;01mreturn\u001b[39;00m one_hot_labels, label_encoder.classes_\n",
      "\u001b[36mFile \u001b[39m\u001b[32mc:\\Users\\ACER\\gitClones\\CV_ENV\\Lib\\site-packages\\sklearn\\preprocessing\\_label.py:134\u001b[39m, in \u001b[36mLabelEncoder.transform\u001b[39m\u001b[34m(self, y)\u001b[39m\n\u001b[32m    131\u001b[39m \u001b[38;5;28;01mif\u001b[39;00m _num_samples(y) == \u001b[32m0\u001b[39m:\n\u001b[32m    132\u001b[39m     \u001b[38;5;28;01mreturn\u001b[39;00m xp.asarray([])\n\u001b[32m--> \u001b[39m\u001b[32m134\u001b[39m \u001b[38;5;28;01mreturn\u001b[39;00m \u001b[43m_encode\u001b[49m\u001b[43m(\u001b[49m\u001b[43my\u001b[49m\u001b[43m,\u001b[49m\u001b[43m \u001b[49m\u001b[43muniques\u001b[49m\u001b[43m=\u001b[49m\u001b[38;5;28;43mself\u001b[39;49m\u001b[43m.\u001b[49m\u001b[43mclasses_\u001b[49m\u001b[43m)\u001b[49m\n",
      "\u001b[36mFile \u001b[39m\u001b[32mc:\\Users\\ACER\\gitClones\\CV_ENV\\Lib\\site-packages\\sklearn\\utils\\_encode.py:237\u001b[39m, in \u001b[36m_encode\u001b[39m\u001b[34m(values, uniques, check_unknown)\u001b[39m\n\u001b[32m    235\u001b[39m         \u001b[38;5;28;01mreturn\u001b[39;00m _map_to_integer(values, uniques)\n\u001b[32m    236\u001b[39m     \u001b[38;5;28;01mexcept\u001b[39;00m \u001b[38;5;167;01mKeyError\u001b[39;00m \u001b[38;5;28;01mas\u001b[39;00m e:\n\u001b[32m--> \u001b[39m\u001b[32m237\u001b[39m         \u001b[38;5;28;01mraise\u001b[39;00m \u001b[38;5;167;01mValueError\u001b[39;00m(\u001b[33mf\u001b[39m\u001b[33m\"\u001b[39m\u001b[33my contains previously unseen labels: \u001b[39m\u001b[38;5;132;01m{\u001b[39;00me\u001b[38;5;132;01m}\u001b[39;00m\u001b[33m\"\u001b[39m)\n\u001b[32m    238\u001b[39m \u001b[38;5;28;01melse\u001b[39;00m:\n\u001b[32m    239\u001b[39m     \u001b[38;5;28;01mif\u001b[39;00m check_unknown:\n",
      "\u001b[31mValueError\u001b[39m: y contains previously unseen labels: 'full_raw_airplane'"
     ]
    }
   ],
   "source": [
    "# Run the process\n",
    "process_all_batches()\n"
   ]
  },
  {
   "cell_type": "code",
   "execution_count": null,
   "id": "8b4c23e4",
   "metadata": {},
   "outputs": [],
   "source": []
  }
 ],
 "metadata": {
  "kernelspec": {
   "display_name": "CV_ENV",
   "language": "python",
   "name": "python3"
  },
  "language_info": {
   "codemirror_mode": {
    "name": "ipython",
    "version": 3
   },
   "file_extension": ".py",
   "mimetype": "text/x-python",
   "name": "python",
   "nbconvert_exporter": "python",
   "pygments_lexer": "ipython3",
   "version": "3.12.4"
  }
 },
 "nbformat": 4,
 "nbformat_minor": 5
}
