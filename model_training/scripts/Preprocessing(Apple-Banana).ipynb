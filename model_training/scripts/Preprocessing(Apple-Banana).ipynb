{
 "cells": [
  {
   "cell_type": "code",
   "execution_count": 1,
   "id": "e52c8983",
   "metadata": {},
   "outputs": [
    {
     "name": "stdout",
     "output_type": "stream",
     "text": [
      "Processing apple data...\n",
      "Processing banana data...\n"
     ]
    }
   ],
   "source": [
    "import os\n",
    "import numpy as np\n",
    "import pandas as pd\n",
    "import ndjson\n",
    "import cv2\n",
    "import matplotlib.pyplot as plt\n",
    "\n",
    "# Define directories for input and output\n",
    "raw_data_dir = r'D:\\QuickDrawDataset(Apple&Banana)'  # Replace with the path to your NDJSON folder\n",
    "output_dir = 'processed_data(Apple&Banana)'  # Output directory to save the processed data\n",
    "\n",
    "# Ensure the output directory exists\n",
    "if not os.path.exists(output_dir):\n",
    "    os.makedirs(output_dir)\n",
    "\n",
    "# Function to convert strokes to image\n",
    "def coordinates_to_image(coordinates, image_size=32):\n",
    "    \"\"\"\n",
    "    Convert the list of coordinates into a grayscale image (32x32).\n",
    "    Coordinates are expected as a list of (x, y) tuples.\n",
    "    \"\"\"\n",
    "    image = np.ones((image_size, image_size), dtype=np.uint8) * 255  # White background\n",
    "    \n",
    "    # Loop through each stroke (a stroke is a list of (x, y) pairs)\n",
    "    for stroke in coordinates:\n",
    "        if len(stroke) > 1:\n",
    "            for i in range(1, len(stroke)):\n",
    "                try:\n",
    "                    x1, y1 = stroke[i-1]  # Previous point\n",
    "                    x2, y2 = stroke[i]    # Current point\n",
    "\n",
    "                    # Ensure x1, y1, x2, y2 are integers\n",
    "                    x1, y1 = int(x1), int(y1)\n",
    "                    x2, y2 = int(x2), int(y2)\n",
    "\n",
    "                    # Draw a line between consecutive coordinates\n",
    "                    cv2.line(image, (x1, y1), (x2, y2), (0), 1)  # Black line\n",
    "                except ValueError:\n",
    "                    continue  # Skip invalid strokes\n",
    "\n",
    "    # Resize image to ensure consistent dimensions (32x32)\n",
    "    image = cv2.resize(image, (image_size, image_size), interpolation=cv2.INTER_AREA)\n",
    "    \n",
    "    return image\n",
    "\n",
    "# Function to preprocess and save data\n",
    "def preprocess_and_save_raw_data(input_file, label, image_size=32, batch_size=100):\n",
    "    \"\"\"Stream through the NDJSON file, convert data, and save images one by one\"\"\"\n",
    "    with open(input_file, 'r') as file:\n",
    "        reader = ndjson.reader(file)\n",
    "        \n",
    "        images = []\n",
    "        labels = []\n",
    "        batch_index = 1  # Start with batch 1\n",
    "\n",
    "        # Iterate through the NDJSON file (drawing each item one by one)\n",
    "        for i, entry in enumerate(reader):\n",
    "            drawing = entry['drawing']\n",
    "            \n",
    "            # Skip empty or malformed data (e.g., empty drawings or invalid strokes)\n",
    "            if not drawing or any(len(stroke) == 0 for stroke in drawing):\n",
    "                continue  # Skip this entry if the drawing is empty or malformed\n",
    "            \n",
    "            # Convert strokes to an image\n",
    "            image = coordinates_to_image(drawing, image_size)\n",
    "            images.append(image)\n",
    "            labels.append(label)  # Use the category name as the label\n",
    "            \n",
    "            # Save images and labels after processing every batch (e.g., every 100 entries)\n",
    "            if (i + 1) % batch_size == 0:\n",
    "                # Save images and labels into a numpy array and csv\n",
    "                images_np = np.array(images)\n",
    "                labels_df = pd.DataFrame(labels, columns=['label'])\n",
    "                \n",
    "                # Save images as .npy files in the output directory\n",
    "                np.save(os.path.join(output_dir, f'{label}_images_{batch_index}.npy'), images_np)\n",
    "                \n",
    "                # Save labels as .csv files in the output directory\n",
    "                labels_df.to_csv(os.path.join(output_dir, f'{label}_labels_{batch_index}.csv'), index=False)\n",
    "                \n",
    "                # Reset images and labels for the next batch\n",
    "                images.clear()\n",
    "                labels.clear()\n",
    "                batch_index += 1  # Increment batch number\n",
    "\n",
    "        # Save remaining images if they exist (in case the total number of items is not divisible by batch_size)\n",
    "        if images:\n",
    "            images_np = np.array(images)\n",
    "            labels_df = pd.DataFrame(labels, columns=['label'])\n",
    "            np.save(os.path.join(output_dir, f'{label}_images_{batch_index}.npy'), images_np)\n",
    "            labels_df.to_csv(os.path.join(output_dir, f'{label}_labels_{batch_index}.csv'), index=False)\n",
    "\n",
    "# Main function to process NDJSON files for apple and banana categories\n",
    "def process_all_files():\n",
    "    categories = ['apple', 'banana']\n",
    "    \n",
    "    for label in categories:\n",
    "        input_file = os.path.join(raw_data_dir, f'full_raw_{label}.ndjson')  # Ensure your files are named like 'apple_raw.ndjson' or 'banana_raw.ndjson'\n",
    "        print(f\"Processing {label} data...\")\n",
    "        preprocess_and_save_raw_data(input_file, label)\n",
    "\n",
    "# Call the function to process all files\n",
    "process_all_files()\n"
   ]
  },
  {
   "cell_type": "code",
   "execution_count": 3,
   "id": "e2ecfe53",
   "metadata": {},
   "outputs": [
    {
     "data": {
      "image/png": "[encoded data removed]",
      "text/plain": [
       "<Figure size 640x480 with 1 Axes>"
      ]
     },
     "metadata": {},
     "output_type": "display_data"
    }
   ],
   "source": [
    "# Load the first image to visualize\n",
    "apple_images = np.load('processed_data(Apple&Banana)/apple_images_1.npy')\n",
    "plt.imshow(apple_images[0], cmap='gray')  # Display first image in grayscale\n",
    "plt.show()"
   ]
  },
  {
   "cell_type": "code",
   "execution_count": null,
   "id": "32af6948",
   "metadata": {},
   "outputs": [],
   "source": []
  }
 ],
 "metadata": {
  "kernelspec": {
   "display_name": "CV_ENV",
   "language": "python",
   "name": "python3"
  },
  "language_info": {
   "codemirror_mode": {
    "name": "ipython",
    "version": 3
   },
   "file_extension": ".py",
   "mimetype": "text/x-python",
   "name": "python",
   "nbconvert_exporter": "python",
   "pygments_lexer": "ipython3",
   "version": "3.12.4"
  }
 },
 "nbformat": 4,
 "nbformat_minor": 5
}
